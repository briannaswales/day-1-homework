{
 "metadata": {
  "language_info": {
   "codemirror_mode": {
    "name": "ipython",
    "version": 3
   },
   "file_extension": ".py",
   "mimetype": "text/x-python",
   "name": "python",
   "nbconvert_exporter": "python",
   "pygments_lexer": "ipython3",
   "version": "3.9.1-final"
  },
  "orig_nbformat": 2,
  "kernelspec": {
   "name": "python3",
   "display_name": "Python 3",
   "language": "python"
  }
 },
 "nbformat": 4,
 "nbformat_minor": 2,
 "cells": [
  {
   "cell_type": "code",
   "execution_count": 3,
   "metadata": {},
   "outputs": [
    {
     "output_type": "stream",
     "name": "stdout",
     "text": [
      "0\n1\n2\n3\n4\n5\n6\n7\n8\n9\n10\n11\n12\n13\n14\n15\n16\n17\n18\n19\n20\n21\n22\n23\n24\n25\n26\n27\n28\n29\n30\n31\n"
     ]
    }
   ],
   "source": [
    "for i in range(1000):\n",
    "    if i ** 2 <= 1000:\n",
    "        print(i)\n"
   ]
  },
  {
   "cell_type": "code",
   "execution_count": 4,
   "metadata": {},
   "outputs": [
    {
     "output_type": "stream",
     "name": "stdout",
     "text": [
      "2\n3\n5\n7\n11\n13\n17\n19\n23\n29\n31\n37\n41\n43\n47\n53\n59\n61\n67\n71\n73\n79\n83\n89\n97\n"
     ]
    }
   ],
   "source": [
    "start = 1\n",
    "end = 100\n",
    "\n",
    "for i in range(start, end + 1):\n",
    "    if i > 1:  # integer larger than 1 move to next line\n",
    "        # print(i)\n",
    "        for j in range(2, i):  # identifying integer\n",
    "           # print(j) j = 2\n",
    "           # print(i) i = 3\n",
    "            if(i % j == 0):\n",
    "                break  # because number is divisible by more than itself and 1\n",
    "        else:\n",
    "            print(i)  # print the prime numberino\n"
   ]
  },
  {
   "cell_type": "code",
   "execution_count": 5,
   "metadata": {},
   "outputs": [
    {
     "output_type": "stream",
     "name": "stdout",
     "text": [
      "kids!\n"
     ]
    }
   ],
   "source": [
    "age_inspector = int(input('YOU, gimme that age!! '))\n",
    "# identifying variable, converting input str to int\n",
    "\n",
    "# younger than 18\n",
    "if age_inspector < 18:\n",
    "    print('kids!')\n",
    "# between 18 and 65\n",
    "elif age_inspector >= 18 and age_inspector <= 65:\n",
    "    print('adults')\n",
    "# everyone else\n",
    "else:\n",
    "    print('seniors')\n"
   ]
  },
  {
   "cell_type": "code",
   "execution_count": null,
   "metadata": {},
   "outputs": [],
   "source": []
  }
 ]
}